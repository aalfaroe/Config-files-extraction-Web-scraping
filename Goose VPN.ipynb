{
 "cells": [
  {
   "cell_type": "code",
   "execution_count": 2,
   "metadata": {},
   "outputs": [
    {
     "name": "stderr",
     "output_type": "stream",
     "text": [
      "C:\\Users\\aalfaroe\\AppData\\Local\\Continuum\\anaconda2\\lib\\site-packages\\ipykernel_launcher.py:19: DeprecationWarning: use options instead of chrome_options\n"
     ]
    }
   ],
   "source": [
    "from selenium import webdriver\n",
    "from selenium.webdriver.support.ui import WebDriverWait\n",
    "from selenium.webdriver.support import expected_conditions as EC\n",
    "from selenium.webdriver.common.by import By\n",
    "from bs4 import BeautifulSoup\n",
    "from selenium.webdriver.support.ui import WebDriverWait\n",
    "from selenium.common.exceptions import NoSuchElementException\n",
    "import time\n",
    "import chromedriver_binary\n",
    "from ipykernel import kernelapp as app\n",
    "\n",
    "\n",
    "#opciones para la navegacion\n",
    "options = webdriver.ChromeOptions()\n",
    "options.add_argument('--start-maximized')\n",
    "options.add_argument('--disable-extensions')#para que no utilize ningun tipo de extension\n",
    "\n",
    "driver_path = 'C:\\\\Users\\\\aalfaroe\\\\Documents\\\\2022\\\\chromedriver.exe' #este es el path del chromedriver\n",
    "driver = webdriver.Chrome(driver_path, chrome_options=options) #aca se ejecuta el driver\n",
    "\n",
    "\n",
    "\n",
    "\n",
    "\n",
    "\n",
    "#iniciar en la segunda pantalla\n",
    "driver.set_window_position(2000,0)\n",
    "driver.maximize_window()\n",
    "time.sleep(1)\n",
    "\n",
    "driver.get('https://portal.goosevpn.com/download.php') #el punto get es para abrir la pagina web\n",
    "\n",
    "\n",
    "WebDriverWait(driver, 20).until(EC.element_to_be_clickable((By.CSS_SELECTOR, \"input[type='email']\"))).send_keys('anonymizertester2@gmail.com')\n",
    "WebDriverWait(driver, 20).until(EC.element_to_be_clickable((By.CSS_SELECTOR, \"input[type='password']\"))).send_keys('newtester')\n",
    "#WebDriverWait(driver, 20).until(EC.element_to_be_clickable((By.CSS_SELECTOR, \"button[class='submit-button']\"))).click()\n",
    "WebDriverWait(driver, 20).until(EC.presence_of_element_located((By.XPATH, \"/html/body/section[2]/div/div[1]/form/button\"))).click()\n",
    "#WebDriverWait(driver, 20).until(EC.presence_of_element_located((By.XPATH, \"/html/body/section/section/main/div/div/div[2]/div[1]/div/div[2]/div[1]/div[1]/div[1]/div/div[3]/div/span/svg\"))).click()\n",
    "\n",
    "\n",
    "#solo tiene dos servers sino se paga el servicio\n",
    "\n",
    "\n",
    "\n",
    "#anonymizertester2@gmail.com\n",
    "#newtester\n",
    "#/html/body/div[2]/section[4]/div/div/div[2]/p/a\n",
    "#/html/body/div[2]/section[4]/div/div/div[2]/p/a\n"
   ]
  }
 ],
 "metadata": {
  "hide_input": false,
  "kernelspec": {
   "display_name": "Python 2",
   "language": "python",
   "name": "python2"
  },
  "language_info": {
   "codemirror_mode": {
    "name": "ipython",
    "version": 2
   },
   "file_extension": ".py",
   "mimetype": "text/x-python",
   "name": "python",
   "nbconvert_exporter": "python",
   "pygments_lexer": "ipython2",
   "version": "2.7.15"
  },
  "latex_envs": {
   "LaTeX_envs_menu_present": true,
   "autoclose": false,
   "autocomplete": true,
   "bibliofile": "biblio.bib",
   "cite_by": "apalike",
   "current_citInitial": 1,
   "eqLabelWithNumbers": true,
   "eqNumInitial": 1,
   "hotkeys": {
    "equation": "Ctrl-E",
    "itemize": "Ctrl-I"
   },
   "labels_anchors": false,
   "latex_user_defs": false,
   "report_style_numbering": false,
   "user_envs_cfg": false
  },
  "nbTranslate": {
   "displayLangs": [
    "*"
   ],
   "hotkey": "alt-t",
   "langInMainMenu": true,
   "sourceLang": "en",
   "targetLang": "fr",
   "useGoogleTranslate": true
  },
  "toc": {
   "base_numbering": 1,
   "nav_menu": {},
   "number_sections": true,
   "sideBar": true,
   "skip_h1_title": false,
   "title_cell": "Table of Contents",
   "title_sidebar": "Contents",
   "toc_cell": false,
   "toc_position": {},
   "toc_section_display": true,
   "toc_window_display": false
  }
 },
 "nbformat": 4,
 "nbformat_minor": 2
}
