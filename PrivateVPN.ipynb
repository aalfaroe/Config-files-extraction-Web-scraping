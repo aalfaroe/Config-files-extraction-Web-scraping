{
 "cells": [
  {
   "cell_type": "markdown",
   "metadata": {},
   "source": [
    "# VPN AUTOMATION"
   ]
  },
  {
   "cell_type": "code",
   "execution_count": null,
   "metadata": {},
   "outputs": [],
   "source": [
    "nobind\n",
    "dev tun\n",
    "\n",
    "# Options\n",
    "tun-ipv6\n",
    "remote-cert-tls server\n",
    "client\n",
    "comp-lzo\n",
    "persist-key\n",
    "persist-tun\n",
    "verb 3\n",
    "\n",
    "# Crypto\n",
    "cipher AES-128-GCM\n",
    "auth SHA256\n",
    "auth-user-pass\n",
    "\n",
    "# Cert\n",
    "<ca>\n",
    "-----BEGIN CERTIFICATE-----\n",
    "MIIErTCCA5WgAwIBAgIJAPp3HmtYGCIOMA0GCSqGSIb3DQEBCwUAMIGVMQswCQYD\n",
    "VQQGEwJTRTELMAkGA1UECBMCQ0ExEjAQBgNVBAcTCVN0b2NraG9sbTETMBEGA1UE\n",
    "ChMKUHJpdmF0ZVZQTjEWMBQGA1UEAxMNUHJpdmF0ZVZQTiBDQTETMBEGA1UEKRMK\n",
    "UHJpdmF0ZVZQTjEjMCEGCSqGSIb3DQEJARYUc3VwcG9ydEBwcml2YXR2cG4uc2Uw\n",
    "HhcNMTcwNTI0MjAxNTM3WhcNMjcwNTIyMjAxNTM3WjCBlTELMAkGA1UEBhMCU0Ux\n",
    "CzAJBgNVBAgTAkNBMRIwEAYDVQQHEwlTdG9ja2hvbG0xEzARBgNVBAoTClByaXZh\n",
    "dGVWUE4xFjAUBgNVBAMTDVByaXZhdGVWUE4gQ0ExEzARBgNVBCkTClByaXZhdGVW\n",
    "UE4xIzAhBgkqhkiG9w0BCQEWFHN1cHBvcnRAcHJpdmF0dnBuLnNlMIIBIjANBgkq\n",
    "hkiG9w0BAQEFAAOCAQ8AMIIBCgKCAQEAwjqTWbKk85WN8nd1TaBgBnBHceQWosp8\n",
    "mMHr4xWMTLagWRcq2Modfy7RPnBo9kyn5j/ZZwL/21gLWJbxidurGyZZdEV9Wb5K\n",
    "Ql3DUNxa19kwAbkkEchdES61e99MjmQlWq4vGPXAHjEuDxOZ906AXglCyAvQoXcY\n",
    "W0mNm9yybWllVp1aBrCaZQrNYr7eoFvolqJXdQQ3FFsTBCYa5bHJcKQLBfsiqdJ/\n",
    "BAxhNkQtcmWNSgLy16qoxQpCsxNCxAcYnasuL4rwOP+RazBkJTPXA/2neCJC5rt+\n",
    "sXR9CSfiXdJGwMpYso5m31ZEd7JL2+is0FeAZ6ETrKMnEZMsTpTkdwIDAQABo4H9\n",
    "MIH6MB0GA1UdDgQWBBRCkBlC94zCY6VNncMnK36JxT7bazCBygYDVR0jBIHCMIG/\n",
    "gBRCkBlC94zCY6VNncMnK36JxT7ba6GBm6SBmDCBlTELMAkGA1UEBhMCU0UxCzAJ\n",
    "BgNVBAgTAkNBMRIwEAYDVQQHEwlTdG9ja2hvbG0xEzARBgNVBAoTClByaXZhdGVW\n",
    "UE4xFjAUBgNVBAMTDVByaXZhdGVWUE4gQ0ExEzARBgNVBCkTClByaXZhdGVWUE4x\n",
    "IzAhBgkqhkiG9w0BCQEWFHN1cHBvcnRAcHJpdmF0dnBuLnNlggkA+ncea1gYIg4w\n",
    "DAYDVR0TBAUwAwEB/zANBgkqhkiG9w0BAQsFAAOCAQEAayugvExKDHar7t1zyYn9\n",
    "9Vt1NMf46J8x4Dt9TNjBml5mR9nKvWmreMUuuOhLaO8Da466KGdXeDFNLcBYZd/J\n",
    "2iTawE6/3fmrML9H2sa+k/+E4uU5nQ84ZGOwCinCkMalVjM8EZ0/H2RZvLAVUnvP\n",
    "uUz2JfJhmiRkbeE75fVuqpAm9qdE+/7lg3oICYzxa6BJPxT+Imdjy3Q/FWdsXqX6\n",
    "aallhohPAZlMZgZL4eXECnV8rAfzyjOJggkMDZQt3Flc0Y4iDMfzrEhSOWMkNFBF\n",
    "wjK0F/dnhsX+fPX6GGRpUZgZcCt/hWvypqc05/SnrdKM/vV/jV/yZe0NVzY7S8Ur\n",
    "5g==\n",
    "-----END CERTIFICATE-----\n",
    "</ca>\n",
    "<tls-auth>\n",
    "-----BEGIN OpenVPN Static key V1-----\n",
    "f035a3acaeffb5aedb5bc920bca26ca7\n",
    "ac701da88249008e03563eba6af6d262\n",
    "5ac8ba1e5e0921f76be004c24ae4fd43\n",
    "e42caf0f84269ad44d8d4c14ba45b138\n",
    "6f251c7330d8cc56afd16d5168356456\n",
    "51ef7e87a723ac78ae0d49da5b2f2d78\n",
    "ceafcff7a6367d0712628a6547e5fc8f\n",
    "ef93c87f7bcd6107c7b1ae68396e944a\n",
    "adae50111d01a5d0c67223d667bdbf1b\n",
    "f434bdef03644ecc5386e102724eef38\n",
    "72f66547eb66dc0fea8286069cb082a4\n",
    "1c89083b28fe9f4cec25d48017f26c4f\n",
    "d85b25ddf2ae5448dd2bccf3eef2aacf\n",
    "42ef1e88c3248c689423d0b05a641e9e\n",
    "79dd6b9b5c40f0cc21ffdc891b9eee95\n",
    "1477b537261cb56a958a4f490d961ecb\n",
    "-----END OpenVPN Static key V1-----\n",
    "</tls-auth>\n",
    "key-direction 1"
   ]
  },
  {
   "cell_type": "code",
   "execution_count": null,
   "metadata": {},
   "outputs": [],
   "source": [
    "Hidemyass\n",
    "Purevpn\n",
    "Trickbyte\n",
    "Trustzone\n",
    "Vyprvpn\n",
    "Privatevpn\n",
    "Perfect-privacy\n",
    "Mullvad \n",
    "IPvanish\n",
    "cactusvpn"
   ]
  },
  {
   "cell_type": "code",
   "execution_count": 1,
   "metadata": {},
   "outputs": [
    {
     "name": "stderr",
     "output_type": "stream",
     "text": [
      "C:\\Users\\aalfaroe\\AppData\\Local\\Continuum\\anaconda2\\lib\\site-packages\\ipykernel_launcher.py:18: DeprecationWarning: use options instead of chrome_options\n"
     ]
    }
   ],
   "source": [
    "from selenium import webdriver\n",
    "from selenium.webdriver.support.ui import WebDriverWait\n",
    "from selenium.webdriver.support import expected_conditions as EC\n",
    "from selenium.webdriver.common.by import By\n",
    "from selenium.webdriver.common import keys\n",
    "from bs4 import BeautifulSoup\n",
    "import time\n",
    "import chromedriver_binary\n",
    "from ipykernel import kernelapp as app\n",
    "\n",
    "\n",
    "#navigation options\n",
    "options = webdriver.ChromeOptions()\n",
    "options.add_argument('--start-maximized')\n",
    "options.add_argument('--disable-extensions')#so that you do not use any type of extension\n",
    "\n",
    "driver_path = 'C:\\\\Users\\\\aalfaroe\\\\Documents\\\\2022\\\\chromedriver.exe' #this is the chromedriver path\n",
    "driver = webdriver.Chrome(driver_path, chrome_options=options) #here the driver is executed\n",
    "\n",
    "\n",
    "driver.set_window_position(2000,0)\n",
    "driver.maximize_window()\n",
    "time.sleep(1)\n",
    "\n",
    "driver.get('https://privatevpn.com/support/getting-started/miscellaneous/openvpn/openvpn-configurations-files') #el punto get es para abrir la pagina web\n",
    "\n",
    "WebDriverWait(driver, 20).until(EC.element_to_be_clickable((By.ID, \"cookiescript_close\"))).click()\n",
    "\n",
    "\n",
    "WebDriverWait(driver, 20).until(EC.presence_of_element_located((By.XPATH, \"/html/body/div[3]/div/div/p[2]/a[2]\"))).click()\n",
    "\n",
    "\n"
   ]
  },
  {
   "cell_type": "code",
   "execution_count": null,
   "metadata": {},
   "outputs": [],
   "source": []
  }
 ],
 "metadata": {
  "hide_input": false,
  "kernelspec": {
   "display_name": "Python 2",
   "language": "python",
   "name": "python2"
  },
  "language_info": {
   "codemirror_mode": {
    "name": "ipython",
    "version": 2
   },
   "file_extension": ".py",
   "mimetype": "text/x-python",
   "name": "python",
   "nbconvert_exporter": "python",
   "pygments_lexer": "ipython2",
   "version": "2.7.15"
  },
  "latex_envs": {
   "LaTeX_envs_menu_present": true,
   "autoclose": false,
   "autocomplete": true,
   "bibliofile": "biblio.bib",
   "cite_by": "apalike",
   "current_citInitial": 1,
   "eqLabelWithNumbers": true,
   "eqNumInitial": 1,
   "hotkeys": {
    "equation": "Ctrl-E",
    "itemize": "Ctrl-I"
   },
   "labels_anchors": false,
   "latex_user_defs": false,
   "report_style_numbering": false,
   "user_envs_cfg": false
  },
  "nbTranslate": {
   "displayLangs": [
    "*"
   ],
   "hotkey": "alt-t",
   "langInMainMenu": true,
   "sourceLang": "en",
   "targetLang": "fr",
   "useGoogleTranslate": true
  },
  "toc": {
   "base_numbering": 1,
   "nav_menu": {},
   "number_sections": true,
   "sideBar": true,
   "skip_h1_title": false,
   "title_cell": "Table of Contents",
   "title_sidebar": "Contents",
   "toc_cell": false,
   "toc_position": {},
   "toc_section_display": true,
   "toc_window_display": false
  }
 },
 "nbformat": 4,
 "nbformat_minor": 2
}
